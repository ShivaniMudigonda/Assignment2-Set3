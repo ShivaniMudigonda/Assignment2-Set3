{
 "cells": [
  {
   "cell_type": "markdown",
   "id": "6a970bc1",
   "metadata": {},
   "source": [
    "# Q8"
   ]
  },
  {
   "cell_type": "code",
   "execution_count": 17,
   "id": "c92bb4b5",
   "metadata": {
    "ExecuteTime": {
     "end_time": "2022-12-30T05:28:45.819015Z",
     "start_time": "2022-12-30T05:28:45.797668Z"
    }
   },
   "outputs": [],
   "source": [
    "z =1.96\n",
    "p = 0.5\n",
    "e = 0.04  "
   ]
  },
  {
   "cell_type": "code",
   "execution_count": 18,
   "id": "8e361660",
   "metadata": {
    "ExecuteTime": {
     "end_time": "2022-12-30T05:28:46.448756Z",
     "start_time": "2022-12-30T05:28:46.426849Z"
    }
   },
   "outputs": [],
   "source": [
    "n = ((z**2)*p*(1-p))/(e**2) "
   ]
  },
  {
   "cell_type": "code",
   "execution_count": 19,
   "id": "ca51122a",
   "metadata": {
    "ExecuteTime": {
     "end_time": "2022-12-30T05:28:46.987809Z",
     "start_time": "2022-12-30T05:28:46.963632Z"
    }
   },
   "outputs": [
    {
     "data": {
      "text/plain": [
       "600.2499999999999"
      ]
     },
     "execution_count": 19,
     "metadata": {},
     "output_type": "execute_result"
    }
   ],
   "source": [
    "n  "
   ]
  },
  {
   "cell_type": "markdown",
   "id": "1d8f6a88",
   "metadata": {},
   "source": [
    "# Q9"
   ]
  },
  {
   "cell_type": "code",
   "execution_count": 20,
   "id": "8c7829a6",
   "metadata": {
    "ExecuteTime": {
     "end_time": "2022-12-30T05:45:10.048137Z",
     "start_time": "2022-12-30T05:45:10.023522Z"
    }
   },
   "outputs": [],
   "source": [
    "z = 2.326\n",
    "p = 0.5\n",
    "e = 0.04  "
   ]
  },
  {
   "cell_type": "code",
   "execution_count": 21,
   "id": "13ec7b13",
   "metadata": {
    "ExecuteTime": {
     "end_time": "2022-12-30T05:45:21.502526Z",
     "start_time": "2022-12-30T05:45:21.485129Z"
    }
   },
   "outputs": [
    {
     "data": {
      "text/plain": [
       "845.355625"
      ]
     },
     "execution_count": 21,
     "metadata": {},
     "output_type": "execute_result"
    }
   ],
   "source": [
    "n = ((z**2)*p*(1-p))/(e**2) \n",
    "n "
   ]
  },
  {
   "cell_type": "code",
   "execution_count": null,
   "id": "5ce622c6",
   "metadata": {},
   "outputs": [],
   "source": []
  }
 ],
 "metadata": {
  "kernelspec": {
   "display_name": "Python 3 (ipykernel)",
   "language": "python",
   "name": "python3"
  },
  "language_info": {
   "codemirror_mode": {
    "name": "ipython",
    "version": 3
   },
   "file_extension": ".py",
   "mimetype": "text/x-python",
   "name": "python",
   "nbconvert_exporter": "python",
   "pygments_lexer": "ipython3",
   "version": "3.9.13"
  }
 },
 "nbformat": 4,
 "nbformat_minor": 5
}
